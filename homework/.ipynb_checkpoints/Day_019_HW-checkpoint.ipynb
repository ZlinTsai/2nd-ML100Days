{
 "cells": [
  {
   "cell_type": "markdown",
   "metadata": {
    "collapsed": true
   },
   "source": [
    "# 作業 : (Kaggle)鐵達尼生存預測\n",
    "https://www.kaggle.com/c/titanic"
   ]
  },
  {
   "cell_type": "markdown",
   "metadata": {},
   "source": [
    "# [作業目標]\n",
    "- 試著模仿範例寫法, 在鐵達尼生存預測中, 觀察填補缺值以及 標準化 / 最小最大化 對數值的影響"
   ]
  },
  {
   "cell_type": "markdown",
   "metadata": {},
   "source": [
    "# [作業重點]\n",
    "- 觀察替換不同補缺方式, 對於特徵的影響 (In[4]~In[6], Out[4]~Out[6])\n",
    "- 觀察替換不同特徵縮放方式, 對於特徵的影響 (In[7]~In[8], Out[7]~Out[8])"
   ]
  },
  {
   "cell_type": "code",
   "execution_count": 7,
   "metadata": {},
   "outputs": [
    {
     "name": "stdout",
     "output_type": "stream",
     "text": [
      "(891, 12)\n",
      "(418, 11)\n"
     ]
    },
    {
     "data": {
      "text/html": [
       "<div>\n",
       "<style scoped>\n",
       "    .dataframe tbody tr th:only-of-type {\n",
       "        vertical-align: middle;\n",
       "    }\n",
       "\n",
       "    .dataframe tbody tr th {\n",
       "        vertical-align: top;\n",
       "    }\n",
       "\n",
       "    .dataframe thead th {\n",
       "        text-align: right;\n",
       "    }\n",
       "</style>\n",
       "<table border=\"1\" class=\"dataframe\">\n",
       "  <thead>\n",
       "    <tr style=\"text-align: right;\">\n",
       "      <th></th>\n",
       "      <th>Pclass</th>\n",
       "      <th>Name</th>\n",
       "      <th>Sex</th>\n",
       "      <th>Age</th>\n",
       "      <th>SibSp</th>\n",
       "      <th>Parch</th>\n",
       "      <th>Ticket</th>\n",
       "      <th>Fare</th>\n",
       "      <th>Cabin</th>\n",
       "      <th>Embarked</th>\n",
       "    </tr>\n",
       "  </thead>\n",
       "  <tbody>\n",
       "    <tr>\n",
       "      <th>0</th>\n",
       "      <td>3</td>\n",
       "      <td>Braund, Mr. Owen Harris</td>\n",
       "      <td>male</td>\n",
       "      <td>22.0</td>\n",
       "      <td>1</td>\n",
       "      <td>0</td>\n",
       "      <td>A/5 21171</td>\n",
       "      <td>7.2500</td>\n",
       "      <td>NaN</td>\n",
       "      <td>S</td>\n",
       "    </tr>\n",
       "    <tr>\n",
       "      <th>1</th>\n",
       "      <td>1</td>\n",
       "      <td>Cumings, Mrs. John Bradley (Florence Briggs Th...</td>\n",
       "      <td>female</td>\n",
       "      <td>38.0</td>\n",
       "      <td>1</td>\n",
       "      <td>0</td>\n",
       "      <td>PC 17599</td>\n",
       "      <td>71.2833</td>\n",
       "      <td>C85</td>\n",
       "      <td>C</td>\n",
       "    </tr>\n",
       "    <tr>\n",
       "      <th>2</th>\n",
       "      <td>3</td>\n",
       "      <td>Heikkinen, Miss. Laina</td>\n",
       "      <td>female</td>\n",
       "      <td>26.0</td>\n",
       "      <td>0</td>\n",
       "      <td>0</td>\n",
       "      <td>STON/O2. 3101282</td>\n",
       "      <td>7.9250</td>\n",
       "      <td>NaN</td>\n",
       "      <td>S</td>\n",
       "    </tr>\n",
       "    <tr>\n",
       "      <th>3</th>\n",
       "      <td>1</td>\n",
       "      <td>Futrelle, Mrs. Jacques Heath (Lily May Peel)</td>\n",
       "      <td>female</td>\n",
       "      <td>35.0</td>\n",
       "      <td>1</td>\n",
       "      <td>0</td>\n",
       "      <td>113803</td>\n",
       "      <td>53.1000</td>\n",
       "      <td>C123</td>\n",
       "      <td>S</td>\n",
       "    </tr>\n",
       "    <tr>\n",
       "      <th>4</th>\n",
       "      <td>3</td>\n",
       "      <td>Allen, Mr. William Henry</td>\n",
       "      <td>male</td>\n",
       "      <td>35.0</td>\n",
       "      <td>0</td>\n",
       "      <td>0</td>\n",
       "      <td>373450</td>\n",
       "      <td>8.0500</td>\n",
       "      <td>NaN</td>\n",
       "      <td>S</td>\n",
       "    </tr>\n",
       "  </tbody>\n",
       "</table>\n",
       "</div>"
      ],
      "text/plain": [
       "   Pclass                                               Name     Sex   Age  \\\n",
       "0       3                            Braund, Mr. Owen Harris    male  22.0   \n",
       "1       1  Cumings, Mrs. John Bradley (Florence Briggs Th...  female  38.0   \n",
       "2       3                             Heikkinen, Miss. Laina  female  26.0   \n",
       "3       1       Futrelle, Mrs. Jacques Heath (Lily May Peel)  female  35.0   \n",
       "4       3                           Allen, Mr. William Henry    male  35.0   \n",
       "\n",
       "   SibSp  Parch            Ticket     Fare Cabin Embarked  \n",
       "0      1      0         A/5 21171   7.2500   NaN        S  \n",
       "1      1      0          PC 17599  71.2833   C85        C  \n",
       "2      0      0  STON/O2. 3101282   7.9250   NaN        S  \n",
       "3      1      0            113803  53.1000  C123        S  \n",
       "4      0      0            373450   8.0500   NaN        S  "
      ]
     },
     "execution_count": 7,
     "metadata": {},
     "output_type": "execute_result"
    }
   ],
   "source": [
    "# 做完特徵工程前的所有準備 (與前範例相同)\n",
    "import pandas as pd\n",
    "import numpy as np\n",
    "import copy\n",
    "from sklearn.preprocessing import MinMaxScaler, StandardScaler\n",
    "from sklearn.impute import SimpleImputer\n",
    "from sklearn.model_selection import cross_val_score\n",
    "from sklearn.linear_model import LogisticRegression\n",
    "\n",
    "data_path = '../../Lecture_data/'\n",
    "df_train  = pd.read_csv(data_path + 'titanic_train.csv')\n",
    "df_test   = pd.read_csv(data_path + 'titanic_test.csv')\n",
    "\n",
    "print(df_train.shape)\n",
    "print(df_test.shape)\n",
    "\n",
    "train_Y = df_train['Survived']\n",
    "ids     = df_test['PassengerId']\n",
    "\n",
    "df_train = df_train.drop(['PassengerId', 'Survived'] , axis=1)\n",
    "df_test  = df_test.drop(['PassengerId'] , axis=1)\n",
    "\n",
    "df = pd.concat([df_train,df_test])\n",
    "df.head()"
   ]
  },
  {
   "cell_type": "code",
   "execution_count": 8,
   "metadata": {},
   "outputs": [
    {
     "name": "stdout",
     "output_type": "stream",
     "text": [
      "5 Numeric Features : ['Pclass', 'Age', 'SibSp', 'Parch', 'Fare']\n",
      "\n"
     ]
    }
   ],
   "source": [
    "#只取 int64, float64 兩種數值型欄位, 存於 num_features 中\n",
    "num_features = []\n",
    "for dtype, feature in zip(df.dtypes, df.columns):\n",
    "    if dtype == 'float64' or dtype == 'int64':\n",
    "        num_features.append(feature)\n",
    "        \n",
    "print(f'{len(num_features)} Numeric Features : {num_features}\\n')"
   ]
  },
  {
   "cell_type": "code",
   "execution_count": 9,
   "metadata": {},
   "outputs": [
    {
     "name": "stdout",
     "output_type": "stream",
     "text": [
      "891\n"
     ]
    },
    {
     "data": {
      "text/plain": [
       "(1309, 5)"
      ]
     },
     "execution_count": 9,
     "metadata": {},
     "output_type": "execute_result"
    }
   ],
   "source": [
    "# 削減文字型欄位, 只剩數值型欄位\n",
    "df = df[num_features]\n",
    "train_num = train_Y.shape[0]\n",
    "print(train_num)\n",
    "df.shape"
   ]
  },
  {
   "cell_type": "markdown",
   "metadata": {
    "collapsed": true
   },
   "source": [
    "# 作業1\n",
    "* 試著在補空值區塊, 替換並執行兩種以上填補的缺值, 看看何者比較好?"
   ]
  },
  {
   "cell_type": "code",
   "execution_count": 42,
   "metadata": {},
   "outputs": [
    {
     "name": "stdout",
     "output_type": "stream",
     "text": [
      "strategy = -1,   ans = 0.69826448\n",
      "--------------------------------\n",
      "13.030545604290193\n",
      "0.3838383838383838\n",
      "strategy = mean, ans = 0.70276501\n",
      "--------------------------------\n",
      "strategy = most, ans = 0.70267690\n"
     ]
    }
   ],
   "source": [
    "# -1\n",
    "imputer   = SimpleImputer(strategy = 'constant', fill_value = -1)\n",
    "df_m1     = imputer.fit_transform(df)\n",
    "train_X   = df_m1[:train_num]\n",
    "estimator = LogisticRegression(solver = 'lbfgs')\n",
    "ans = cross_val_score(estimator, train_X, train_Y, cv=5).mean()\n",
    "\n",
    "print('strategy = -1,   ans = %1.8f' %(ans) )\n",
    "\n",
    "print('--------------------------------')\n",
    "\n",
    "# mean\n",
    "imputer   = SimpleImputer(strategy = 'mean')\n",
    "df_mean   = imputer.fit_transform(df)\n",
    "train_X   = df_mean[:train_num]\n",
    "print(train_X.mean())\n",
    "print(train_Y.mean())\n",
    "estimator = LogisticRegression(solver = 'lbfgs')\n",
    "ans = cross_val_score(estimator, train_X, train_Y, cv=10).mean()\n",
    "\n",
    "print('strategy = mean, ans = %1.8f' %(ans) )\n",
    "\n",
    "print('--------------------------------')\n",
    "\n",
    "# most_frequent\n",
    "imputer   = SimpleImputer(strategy = 'most_frequent')\n",
    "df_most   = imputer.fit_transform(df)\n",
    "train_X   = df_most[:train_num]\n",
    "estimator = LogisticRegression(solver = 'lbfgs')\n",
    "ans = cross_val_score(estimator, train_X, train_Y, cv=5).mean()\n",
    "\n",
    "print('strategy = most, ans = %1.8f' %(ans) )"
   ]
  },
  {
   "cell_type": "code",
   "execution_count": 40,
   "metadata": {},
   "outputs": [
    {
     "name": "stdout",
     "output_type": "stream",
     "text": [
      "strategy = -1,   ans = 0.69826448\n",
      "--------------------------------\n",
      "13.023313832442067\n",
      "0.3838383838383838\n",
      "strategy = mean, ans = 0.70513944\n",
      "--------------------------------\n",
      "strategy = most, ans = 0.70267690\n"
     ]
    }
   ],
   "source": [
    "df_temp = df[:train_num]\n",
    "\n",
    "# -1\n",
    "imputer   = SimpleImputer(strategy = 'constant', fill_value = -1)\n",
    "train_X   = imputer.fit_transform(df_temp)\n",
    "estimator = LogisticRegression(solver = 'lbfgs')\n",
    "ans = cross_val_score(estimator, train_X, train_Y, cv=5).mean()\n",
    "\n",
    "print('strategy = -1,   ans = %1.8f' %(ans) )\n",
    "\n",
    "print('--------------------------------')\n",
    "\n",
    "# mean\n",
    "imputer   = SimpleImputer(strategy = 'mean')\n",
    "train_X   = imputer.fit_transform(df_temp)\n",
    "print(train_X.mean())\n",
    "print(train_Y.mean())\n",
    "estimator = LogisticRegression(solver = 'lbfgs')\n",
    "ans = cross_val_score(estimator, train_X, train_Y, cv=10).mean()\n",
    "\n",
    "print('strategy = mean, ans = %1.8f' %(ans) )\n",
    "\n",
    "print('--------------------------------')\n",
    "\n",
    "# most_frequent\n",
    "imputer   = SimpleImputer(strategy = 'most_frequent')\n",
    "train_X   = imputer.fit_transform(df_temp)\n",
    "estimator = LogisticRegression(solver = 'lbfgs')\n",
    "ans = cross_val_score(estimator, train_X, train_Y, cv=5).mean()\n",
    "\n",
    "print('strategy = most, ans = %1.8f' %(ans) )"
   ]
  },
  {
   "cell_type": "code",
   "execution_count": 31,
   "metadata": {},
   "outputs": [
    {
     "name": "stdout",
     "output_type": "stream",
     "text": [
      "(1309, 5)\n",
      "Pclass     2.294882\n",
      "Age       29.881138\n",
      "SibSp      0.498854\n",
      "Parch      0.385027\n",
      "Fare      33.295479\n",
      "dtype: float64\n",
      "(891, 5)\n",
      "Pclass     2.308642\n",
      "Age       29.699118\n",
      "SibSp      0.523008\n",
      "Parch      0.381594\n",
      "Fare      32.204208\n",
      "dtype: float64\n"
     ]
    }
   ],
   "source": [
    "print(df.shape)\n",
    "print(df.mean())\n",
    "\n",
    "df_temp = df[:train_num]\n",
    "print(df_temp.shape)\n",
    "print(df_temp.mean())"
   ]
  },
  {
   "cell_type": "markdown",
   "metadata": {
    "collapsed": true
   },
   "source": [
    "# 作業2\n",
    "* 使用不同的標準化方式 ( 原值 / 最小最大化 / 標準化 )，搭配羅吉斯迴歸模型，何者效果最好?"
   ]
  },
  {
   "cell_type": "code",
   "execution_count": 20,
   "metadata": {},
   "outputs": [
    {
     "name": "stdout",
     "output_type": "stream",
     "text": [
      "scaler = MinMax (-1 ~ 1), ans = 0.69937552\n",
      "--------------------------------\n",
      "scaler = MinMax (0 ~ 1),  ans = 0.70048649\n",
      "--------------------------------\n",
      "scaler = Std,             ans = 0.69825820\n",
      "--------------------------------\n"
     ]
    }
   ],
   "source": [
    "df_temp = df[:train_num]\n",
    "\n",
    "# MinMax\n",
    "imputer   = SimpleImputer(strategy = 'constant', fill_value = -1)\n",
    "train_X   = imputer.fit_transform(df_temp)\n",
    "scaler    = MinMaxScaler(feature_range = (-1, 1))\n",
    "train_X   = scaler.fit_transform(train_X)\n",
    "estimator = LogisticRegression(solver = 'lbfgs')\n",
    "ans = cross_val_score(estimator, train_X, train_Y, cv=5).mean()\n",
    "\n",
    "print('scaler = MinMax (-1 ~ 1), ans = %1.8f' %(ans) )\n",
    "\n",
    "print('--------------------------------')\n",
    "\n",
    "# MinMax\n",
    "imputer   = SimpleImputer(strategy = 'constant', fill_value = -1)\n",
    "train_X   = imputer.fit_transform(df_temp)\n",
    "scaler    = MinMaxScaler(feature_range = (0, 1))\n",
    "train_X   = scaler.fit_transform(train_X)\n",
    "estimator = LogisticRegression(solver = 'lbfgs')\n",
    "ans = cross_val_score(estimator, train_X, train_Y, cv=5).mean()\n",
    "\n",
    "print('scaler = MinMax (0 ~ 1),  ans = %1.8f' %(ans) )\n",
    "\n",
    "print('--------------------------------')\n",
    "\n",
    "# Std\n",
    "imputer   = SimpleImputer(strategy = 'constant', fill_value = -1)\n",
    "train_X   = imputer.fit_transform(df_temp)\n",
    "scaler    = StandardScaler()\n",
    "train_X   = scaler.fit_transform(train_X)\n",
    "estimator = LogisticRegression(solver = 'lbfgs')\n",
    "ans = cross_val_score(estimator, train_X, train_Y, cv=5).mean()\n",
    "\n",
    "print('scaler = Std,             ans = %1.8f' %(ans) )\n",
    "\n",
    "print('--------------------------------')"
   ]
  },
  {
   "cell_type": "code",
   "execution_count": 21,
   "metadata": {},
   "outputs": [
    {
     "name": "stdout",
     "output_type": "stream",
     "text": [
      "scaler = MinMax (-1 ~ 1), ans = 0.70043585\n",
      "--------------------------------\n",
      "scaler = MinMax (0 ~ 1),  ans = 0.70046752\n",
      "--------------------------------\n",
      "scaler = Std,             ans = 0.69594140\n",
      "--------------------------------\n"
     ]
    }
   ],
   "source": [
    "df_temp = df[:train_num]\n",
    "\n",
    "# MinMax\n",
    "imputer   = SimpleImputer(strategy = 'mean')\n",
    "train_X   = imputer.fit_transform(df_temp)\n",
    "scaler    = MinMaxScaler(feature_range = (-1, 1))\n",
    "train_X   = scaler.fit_transform(train_X)\n",
    "estimator = LogisticRegression(solver = 'lbfgs')\n",
    "ans = cross_val_score(estimator, train_X, train_Y, cv=5).mean()\n",
    "\n",
    "print('scaler = MinMax (-1 ~ 1), ans = %1.8f' %(ans) )\n",
    "\n",
    "print('--------------------------------')\n",
    "\n",
    "# MinMax\n",
    "imputer   = SimpleImputer(strategy = 'mean')\n",
    "train_X   = imputer.fit_transform(df_temp)\n",
    "scaler    = MinMaxScaler(feature_range = (0, 1))\n",
    "train_X   = scaler.fit_transform(train_X)\n",
    "estimator = LogisticRegression(solver = 'lbfgs')\n",
    "ans = cross_val_score(estimator, train_X, train_Y, cv=5).mean()\n",
    "\n",
    "print('scaler = MinMax (0 ~ 1),  ans = %1.8f' %(ans) )\n",
    "\n",
    "print('--------------------------------')\n",
    "\n",
    "# Std\n",
    "imputer   = SimpleImputer(strategy = 'mean')\n",
    "train_X   = imputer.fit_transform(df_temp)\n",
    "scaler    = StandardScaler()\n",
    "train_X   = scaler.fit_transform(train_X)\n",
    "estimator = LogisticRegression(solver = 'lbfgs')\n",
    "ans = cross_val_score(estimator, train_X, train_Y, cv=5).mean()\n",
    "\n",
    "print('scaler = Std,             ans = %1.8f' %(ans) )\n",
    "\n",
    "print('--------------------------------')"
   ]
  },
  {
   "cell_type": "code",
   "execution_count": 22,
   "metadata": {},
   "outputs": [
    {
     "name": "stdout",
     "output_type": "stream",
     "text": [
      "scaler = MinMax (-1 ~ 1), ans = 0.70268946\n",
      "--------------------------------\n",
      "scaler = MinMax (0 ~ 1),  ans = 0.69935020\n",
      "--------------------------------\n",
      "scaler = Std,             ans = 0.70268318\n",
      "--------------------------------\n"
     ]
    }
   ],
   "source": [
    "df_temp = df[:train_num]\n",
    "\n",
    "# MinMax\n",
    "imputer   = SimpleImputer(strategy = 'most_frequent')\n",
    "train_X   = imputer.fit_transform(df_temp)\n",
    "scaler    = MinMaxScaler(feature_range = (-1, 1))\n",
    "train_X   = scaler.fit_transform(train_X)\n",
    "estimator = LogisticRegression(solver = 'lbfgs')\n",
    "ans = cross_val_score(estimator, train_X, train_Y, cv=5).mean()\n",
    "\n",
    "print('scaler = MinMax (-1 ~ 1), ans = %1.8f' %(ans) )\n",
    "\n",
    "print('--------------------------------')\n",
    "\n",
    "# MinMax\n",
    "imputer   = SimpleImputer(strategy = 'most_frequent')\n",
    "train_X   = imputer.fit_transform(df_temp)\n",
    "scaler    = MinMaxScaler(feature_range = (0, 1))\n",
    "train_X   = scaler.fit_transform(train_X)\n",
    "estimator = LogisticRegression(solver = 'lbfgs')\n",
    "ans = cross_val_score(estimator, train_X, train_Y, cv=5).mean()\n",
    "\n",
    "print('scaler = MinMax (0 ~ 1),  ans = %1.8f' %(ans) )\n",
    "\n",
    "print('--------------------------------')\n",
    "\n",
    "# Std\n",
    "imputer   = SimpleImputer(strategy = 'most_frequent')\n",
    "train_X   = imputer.fit_transform(df_temp)\n",
    "scaler    = StandardScaler()\n",
    "train_X   = scaler.fit_transform(train_X)\n",
    "estimator = LogisticRegression(solver = 'lbfgs')\n",
    "ans = cross_val_score(estimator, train_X, train_Y, cv=5).mean()\n",
    "\n",
    "print('scaler = Std,             ans = %1.8f' %(ans) )\n",
    "\n",
    "print('--------------------------------')"
   ]
  },
  {
   "cell_type": "markdown",
   "metadata": {},
   "source": [
    "### In this case, most_frequent + MinMaxScaler (-1 to 1) is best."
   ]
  },
  {
   "cell_type": "code",
   "execution_count": 24,
   "metadata": {},
   "outputs": [
    {
     "name": "stdout",
     "output_type": "stream",
     "text": [
      "      x1  x2\n",
      "s1 0   1   2\n",
      "   1   2   4\n",
      "   2   3   6\n",
      "s2 0   4   8\n",
      "   1   5  10\n",
      "   2   6  12\n",
      "x1    3.5\n",
      "x2    7.0\n",
      "dtype: float64\n"
     ]
    }
   ],
   "source": [
    "a = pd.DataFrame({'x1': [1,2,3], 'x2': [2,4,6]})\n",
    "b = pd.DataFrame({'x1': [4,5,6], 'x2': [8,10,12]})\n",
    "\n",
    "c = pd.concat([a, b], keys=['s1', 's2'])\n",
    "print(c)\n",
    "print(c.mean())"
   ]
  }
 ],
 "metadata": {
  "kernelspec": {
   "display_name": "Python 3",
   "language": "python",
   "name": "python3"
  },
  "language_info": {
   "codemirror_mode": {
    "name": "ipython",
    "version": 3
   },
   "file_extension": ".py",
   "mimetype": "text/x-python",
   "name": "python",
   "nbconvert_exporter": "python",
   "pygments_lexer": "ipython3",
   "version": "3.7.3"
  }
 },
 "nbformat": 4,
 "nbformat_minor": 2
}
